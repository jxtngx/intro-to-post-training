{
  "nbformat": 4,
  "nbformat_minor": 0,
  "metadata": {
    "colab": {
      "provenance": [],
      "mount_file_id": "1o1aFBUNsFvZdTNiruu-tKbdhAtOBSwe9",
      "authorship_tag": "ABX9TyNGe+6cxQuOORPfUhv2PVgI",
      "include_colab_link": true
    },
    "kernelspec": {
      "name": "python3",
      "display_name": "Python 3"
    },
    "language_info": {
      "name": "python"
    }
  },
  "cells": [
    {
      "cell_type": "markdown",
      "metadata": {
        "id": "view-in-github",
        "colab_type": "text"
      },
      "source": [
        "<a href=\"https://colab.research.google.com/github/jxtngx/torchtune-cookbook/blob/main/summarization/L0_Data_Acquisition_and_Preprocessing.ipynb\" target=\"_parent\"><img src=\"https://colab.research.google.com/assets/colab-badge.svg\" alt=\"Open In Colab\"/></a>"
      ]
    },
    {
      "cell_type": "markdown",
      "source": [
        "This notebook will help with a basic example of using BeautifulSoup to acquire and process data from Wikipedia.\n",
        "\n",
        "Using BeautifulSoup, we can collect text data from a source page and treat the content body as text data for a downstream model to summarize.\n",
        "\n",
        "Note that this is a basic example of preprocessing and allows for future work on additional data prep techniques that\n",
        "would remove unneeded tokens from the context."
      ],
      "metadata": {
        "id": "ZcaY7r5vAGYW"
      }
    },
    {
      "cell_type": "code",
      "execution_count": 1,
      "metadata": {
        "id": "f87y2AK6jfcS"
      },
      "outputs": [],
      "source": [
        "import json\n",
        "import pandas as pd\n",
        "import requests\n",
        "from bs4 import BeautifulSoup"
      ]
    },
    {
      "cell_type": "markdown",
      "source": [
        "Step 1: fetch the page data"
      ],
      "metadata": {
        "id": "pC5VQzhJe1sf"
      }
    },
    {
      "cell_type": "code",
      "source": [
        "# set the base url for the source page\n",
        "url = \"https://en.wikipedia.org/wiki/Intelligent_agent\"\n",
        "# request the source page content\n",
        "content = requests.get(url)\n",
        "# parse the source page with BeautifulSoup\n",
        "soup = BeautifulSoup(content.text, features='html.parser')"
      ],
      "metadata": {
        "id": "678nTt6GAnpu"
      },
      "execution_count": 2,
      "outputs": []
    },
    {
      "cell_type": "markdown",
      "source": [
        "Step 2: get the text from the article body"
      ],
      "metadata": {
        "id": "sm1xa1e9e9OZ"
      }
    },
    {
      "cell_type": "code",
      "source": [
        "# find the body content\n",
        "body = soup.find(attrs={\"id\": \"bodyContent\"})"
      ],
      "metadata": {
        "id": "9C-UQxHfdyQ5"
      },
      "execution_count": 3,
      "outputs": []
    },
    {
      "cell_type": "markdown",
      "source": [
        "Step 3: pack the data into a dict to save in json format"
      ],
      "metadata": {
        "id": "flHt4NyffCdl"
      }
    },
    {
      "cell_type": "code",
      "source": [
        "# create a data collection using the root article as the first entry\n",
        "data = {\"Intelligent Agent\": {'url': url, 'body': body.get_text(separator=\" \", strip=True)}}"
      ],
      "metadata": {
        "id": "Na7vZCjYbP_w"
      },
      "execution_count": 4,
      "outputs": []
    },
    {
      "cell_type": "code",
      "source": [
        "# check out a slice of the article\n",
        "data['Intelligent Agent']['body'][:500]"
      ],
      "metadata": {
        "colab": {
          "base_uri": "https://localhost:8080/",
          "height": 53
        },
        "id": "VsZ6ZC6PJ-7D",
        "outputId": "e5b44045-9552-4c08-b7d6-877244a4da89"
      },
      "execution_count": 5,
      "outputs": [
        {
          "output_type": "execute_result",
          "data": {
            "text/plain": [
              "'From Wikipedia, the free encyclopedia Software agent which acts autonomously For the term in intelligent design, see Intelligent designer . Not to be confused with Embodied agent . Simple reflex agent diagram In artificial intelligence , an intelligent agent is an entity that perceives its environment , takes actions autonomously to achieve goals, and may improve its performance through machine learning or by acquiring knowledge . Leading AI textbooks define artificial intelligence as the \"study'"
            ],
            "application/vnd.google.colaboratory.intrinsic+json": {
              "type": "string"
            }
          },
          "metadata": {},
          "execution_count": 5
        }
      ]
    },
    {
      "cell_type": "markdown",
      "source": [
        "Step 4: Check that the content body is less than the model's context length"
      ],
      "metadata": {
        "id": "QAr8ebeJfJnO"
      }
    },
    {
      "cell_type": "code",
      "source": [
        "# check the context length\n",
        "len(data['Intelligent Agent']['body'])"
      ],
      "metadata": {
        "colab": {
          "base_uri": "https://localhost:8080/"
        },
        "id": "mwFwhJT9cQf3",
        "outputId": "c1ea342d-9f3a-40fe-9410-c43175a1ad18"
      },
      "execution_count": 6,
      "outputs": [
        {
          "output_type": "execute_result",
          "data": {
            "text/plain": [
              "30259"
            ]
          },
          "metadata": {},
          "execution_count": 6
        }
      ]
    },
    {
      "cell_type": "markdown",
      "source": [
        "Step 5: save this data as a json file for later use.\n",
        "\n",
        "\n",
        "\n",
        "> Make sure to mount your Google Drive and to add a new folder titled `intelligent agents` before moving on\n",
        "\n",
        "\n",
        "Be sure to uncomment the cells below to save the json file to your Google Drive"
      ],
      "metadata": {
        "id": "_ZXtPm_DmHxI"
      }
    },
    {
      "cell_type": "code",
      "source": [
        "# dest = \"/content/drive/MyDrive/intelligent-agents/\"\n",
        "# filepath = dest + \"intelligent_agent.json\"\n",
        "# filepath"
      ],
      "metadata": {
        "id": "DVvTuv_kmMmY"
      },
      "execution_count": 7,
      "outputs": []
    },
    {
      "cell_type": "code",
      "source": [
        "# with open(filepath, 'w') as fp:\n",
        "#     json.dump(data, fp, indent=4)"
      ],
      "metadata": {
        "id": "MU49_40anwSk"
      },
      "execution_count": 8,
      "outputs": []
    }
  ]
}